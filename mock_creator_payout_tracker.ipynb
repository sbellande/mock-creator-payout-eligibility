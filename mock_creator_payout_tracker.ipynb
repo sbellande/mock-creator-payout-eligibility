{
 "cells": [
  {
   "cell_type": "markdown",
   "id": "bb4b7fc9",
   "metadata": {},
   "source": [
    "# 🎮 Mock Creator Payout Eligibility Tracker\n",
    "\n",
    "This notebook simulates payout eligibility for creators on a Twitch-like platform."
   ]
  },
  {
   "cell_type": "code",
   "execution_count": null,
   "id": "db878464",
   "metadata": {},
   "outputs": [],
   "source": [
    "import pandas as pd\n",
    "import numpy as np\n",
    "import matplotlib.pyplot as plt\n",
    "import seab as sns"
   ]
  },
  {
   "cell_type": "code",
   "execution_count": null,
   "id": "86ab5ee3",
   "metadata": {},
   "outputs": [],
   "source": [
    "# Load dataset\n",
    "df = pd.read_csv(\"mock_creator_payout_data.csv\")\n",
    "df.head()"
   ]
  },
  {
   "cell_type": "code",
   "execution_count": null,
   "id": "c2fd5aa0",
   "metadata": {},
   "outputs": [],
   "source": [
    "# Define eligibility criteria\n",
    "df['eligible'] = np.where((df['monthly_views'] >= 1000) & (df['monthly_revenue'] >= 50), 'Eligible', 'Ineligible')\n",
    "\n",
    "# Summary stats\n",
    "num_total = len(df)\n",
    "num_eligible = len(df[df['eligible'] == 'Eligible'])\n",
    "percent_eligible = round((num_eligible / num_total) * 100, 2)\n",
    "\n",
    "print(f\"Total creators: {num_total}\")\n",
    "print(f\"Eligible creators: {num_eligible} ({percent_eligible}%)\")"
   ]
  },
  {
   "cell_type": "code",
   "execution_count": null,
   "id": "9abf488a",
   "metadata": {},
   "outputs": [],
   "source": [
    "# Plot eligibility by country\n",
    "plt.figure(figsize=(10, 6))\n",
    "sns.countplot(data=df, x='country', hue='eligible', palette='Set2')\n",
    "plt.title('Creator Eligibility by Country')\n",
    "plt.xlabel('Country')\n",
    "plt.ylabel('Number of Creators')\n",
    "plt.legend(title='Eligibility')\n",
    "plt.tight_layout()\n",
    "plt.show()"
   ]
  },
  {
   "cell_type": "markdown",
   "id": "a179bf58",
   "metadata": {},
   "source": [
    "## 🔍 Next Steps\n",
    "\n",
    "- Adjust eligibility thresholds\n",
    "- Simulate different payout policies\n",
    "- Build an interactive dashboard"
   ]
  }
 ],
 "metadata": {},
 "nbformat": 4,
 "nbformat_minor": 5
}
